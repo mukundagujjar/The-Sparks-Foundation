{
  "nbformat": 4,
  "nbformat_minor": 0,
  "metadata": {
    "colab": {
      "name": "student_scores.ipynb",
      "provenance": []
    },
    "kernelspec": {
      "name": "python3",
      "display_name": "Python 3"
    }
  },
  "cells": [
    {
      "cell_type": "markdown",
      "metadata": {
        "id": "rg0IiheAPrPG"
      },
      "source": [
        "# **Mukunda** **Gujjar**"
      ]
    },
    {
      "cell_type": "markdown",
      "metadata": {
        "id": "6yjLaoGKQq9R"
      },
      "source": [
        "IMPORTING LIBRARIES"
      ]
    },
    {
      "cell_type": "code",
      "metadata": {
        "id": "JQJuLu4TP2Ri"
      },
      "source": [
        "import numpy as np\r\n",
        "import pandas as pd\r\n",
        "import matplotlib.pyplot as plt \r\n",
        "from sklearn.linear_model import LinearRegression\r\n",
        "from sklearn.model_selection import train_test_split\r\n",
        "from sklearn import metrics "
      ],
      "execution_count": 1,
      "outputs": []
    },
    {
      "cell_type": "markdown",
      "metadata": {
        "id": "Pz1WdqtTQnmH"
      },
      "source": [
        "READING CSV DATA"
      ]
    },
    {
      "cell_type": "code",
      "metadata": {
        "colab": {
          "base_uri": "https://localhost:8080/"
        },
        "id": "1hVdAL88QC5n",
        "outputId": "145d7ee4-fa60-4668-edce-d58870f9dcce"
      },
      "source": [
        "data = pd.read_csv(\"student_scores.csv\")\r\n",
        "print(data.shape)\r\n",
        "print(data.head)"
      ],
      "execution_count": 2,
      "outputs": [
        {
          "output_type": "stream",
          "text": [
            "(25, 2)\n",
            "<bound method NDFrame.head of     Hours  Scores\n",
            "0     2.5      21\n",
            "1     5.1      47\n",
            "2     3.2      27\n",
            "3     8.5      75\n",
            "4     3.5      30\n",
            "5     1.5      20\n",
            "6     9.2      88\n",
            "7     5.5      60\n",
            "8     8.3      81\n",
            "9     2.7      25\n",
            "10    7.7      85\n",
            "11    5.9      62\n",
            "12    4.5      41\n",
            "13    3.3      42\n",
            "14    1.1      17\n",
            "15    8.9      95\n",
            "16    2.5      30\n",
            "17    1.9      24\n",
            "18    6.1      67\n",
            "19    7.4      69\n",
            "20    2.7      30\n",
            "21    4.8      54\n",
            "22    3.8      35\n",
            "23    6.9      76\n",
            "24    7.8      86>\n"
          ],
          "name": "stdout"
        }
      ]
    },
    {
      "cell_type": "markdown",
      "metadata": {
        "id": "nmaXLkh4QhSD"
      },
      "source": [
        "PLOTTING DATA"
      ]
    },
    {
      "cell_type": "code",
      "metadata": {
        "colab": {
          "base_uri": "https://localhost:8080/",
          "height": 295
        },
        "id": "KEM8X98QQUxL",
        "outputId": "43c91f81-6c35-4704-f1ae-f470e05daba6"
      },
      "source": [
        "data.plot(x=\"Hours\", y=\"Scores\", style='x')\r\n",
        "plt.title('Hours vs Percentage')  \r\n",
        "plt.xlabel('Hours studied')  \r\n",
        "plt.ylabel('Percentage scored')  \r\n",
        "plt.show()"
      ],
      "execution_count": 3,
      "outputs": [
        {
          "output_type": "display_data",
          "data": {
            "image/png": "[encoded data removed]",
            "text/plain": [
              "<Figure size 432x288 with 1 Axes>"
            ]
          },
          "metadata": {
            "tags": [],
            "needs_background": "light"
          }
        }
      ]
    },
    {
      "cell_type": "markdown",
      "metadata": {
        "id": "CY2QaPQPQwjd"
      },
      "source": [
        "DIVIDE DATA INTO ATTRIBUTES AND LABELS"
      ]
    },
    {
      "cell_type": "code",
      "metadata": {
        "id": "djqPAziPQZv5"
      },
      "source": [
        "x = data.iloc[:, :-1].values\r\n",
        "y = data.iloc[:, 1].values"
      ],
      "execution_count": 4,
      "outputs": []
    },
    {
      "cell_type": "markdown",
      "metadata": {
        "id": "zWl2fydfQ8RR"
      },
      "source": [
        "SPLITTING DATA INTO TRAINING AND TESTING DATA. 20% HAS BEEN ALLOCATED FOR TESTING"
      ]
    },
    {
      "cell_type": "code",
      "metadata": {
        "id": "wGrRSGqqQ2nI"
      },
      "source": [
        "x_train, x_test, y_train, y_test = train_test_split(x, y, test_size=0.2, random_state=0)\r\n"
      ],
      "execution_count": 5,
      "outputs": []
    },
    {
      "cell_type": "markdown",
      "metadata": {
        "id": "JhyefxhiRJj7"
      },
      "source": [
        "CREATING LINEAR REGRESSION MODEL AND TRAINING IT"
      ]
    },
    {
      "cell_type": "code",
      "metadata": {
        "id": "z30Ytxt9RC3e"
      },
      "source": [
        "model = LinearRegression().fit(x_train,y_train)"
      ],
      "execution_count": 6,
      "outputs": []
    },
    {
      "cell_type": "markdown",
      "metadata": {
        "id": "wdNrAwxXRRtt"
      },
      "source": [
        "VALUE OF COEFF. OF DETERMINATION"
      ]
    },
    {
      "cell_type": "code",
      "metadata": {
        "colab": {
          "base_uri": "https://localhost:8080/"
        },
        "id": "cLNHn4YxRMjs",
        "outputId": "bda4ccb8-ffb0-4519-96b4-a36435a406b0"
      },
      "source": [
        "score = model.score(x_train, y_train)\r\n",
        "print(\"Coefficient of determination: \", score)"
      ],
      "execution_count": 7,
      "outputs": [
        {
          "output_type": "stream",
          "text": [
            "Coefficient of determination:  0.9515510725211553\n"
          ],
          "name": "stdout"
        }
      ]
    },
    {
      "cell_type": "markdown",
      "metadata": {
        "id": "gE5dqcZ4Rx7H"
      },
      "source": [
        "TESTING THE MODEL AND COMPARING PREDICTED RESULTS WITH ACTUAL RESULTS"
      ]
    },
    {
      "cell_type": "code",
      "metadata": {
        "colab": {
          "base_uri": "https://localhost:8080/"
        },
        "id": "p2o_qRf1RkMY",
        "outputId": "bbbc0726-993b-49ed-dbe6-6152f1447b91"
      },
      "source": [
        "y_prediction = model.predict(x_test)\r\n",
        "prediction = pd.DataFrame({'Original value' : y_test, 'Predicted value' : y_prediction})\r\n",
        "print(prediction)"
      ],
      "execution_count": 8,
      "outputs": [
        {
          "output_type": "stream",
          "text": [
            "   Original value  Predicted value\n",
            "0              20        16.884145\n",
            "1              27        33.732261\n",
            "2              69        75.357018\n",
            "3              30        26.794801\n",
            "4              62        60.491033\n"
          ],
          "name": "stdout"
        }
      ]
    },
    {
      "cell_type": "markdown",
      "metadata": {
        "id": "xhq6T8TKR8Ce"
      },
      "source": [
        "MODEL EVALUATION USING MEAN SQUARED ERROR (MSE)"
      ]
    },
    {
      "cell_type": "code",
      "metadata": {
        "colab": {
          "base_uri": "https://localhost:8080/"
        },
        "id": "dEGWmG9-R58U",
        "outputId": "15513a42-ecf2-46a1-c9af-88f156c0ae21"
      },
      "source": [
        "print(\"Mean Squared Error: \", metrics.mean_squared_error(y_test, y_prediction))"
      ],
      "execution_count": 9,
      "outputs": [
        {
          "output_type": "stream",
          "text": [
            "Mean Squared Error:  21.598769307217456\n"
          ],
          "name": "stdout"
        }
      ]
    },
    {
      "cell_type": "markdown",
      "metadata": {
        "id": "CxxppiUZSJCr"
      },
      "source": [
        "PREDICTING THE PERCENTAGE SCORE FOR 9.25 HOURS"
      ]
    },
    {
      "cell_type": "code",
      "metadata": {
        "colab": {
          "base_uri": "https://localhost:8080/"
        },
        "id": "TIJtBlOVSGaY",
        "outputId": "d381ddb4-b159-42ec-8801-3164eae9b24f"
      },
      "source": [
        "value = [[9.25]]\r\n",
        "random_test = model.predict(value)\r\n",
        "print(\"The predicted percentage score for 9.25 hours is\", random_test[0])"
      ],
      "execution_count": 10,
      "outputs": [
        {
          "output_type": "stream",
          "text": [
            "The predicted percentage score for 9.25 hours is 93.69173248737539\n"
          ],
          "name": "stdout"
        }
      ]
    }
  ]
}